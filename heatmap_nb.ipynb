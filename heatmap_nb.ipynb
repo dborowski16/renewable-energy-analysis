{
 "cells": [
  {
   "cell_type": "code",
   "execution_count": 51,
   "metadata": {},
   "outputs": [],
   "source": [
    "# Dependencies and Setup\n",
    "import matplotlib.pyplot as plt\n",
    "import pandas as pd\n",
    "import numpy as np\n",
    "import requests\n",
    "import gmaps\n",
    "import os\n",
    "from pprint import pprint\n",
    "\n",
    "# Import API key\n",
    "from dave_api import g_key"
   ]
  },
  {
   "cell_type": "code",
   "execution_count": 52,
   "metadata": {},
   "outputs": [
    {
     "data": {
      "text/html": [
       "<div>\n",
       "<style scoped>\n",
       "    .dataframe tbody tr th:only-of-type {\n",
       "        vertical-align: middle;\n",
       "    }\n",
       "\n",
       "    .dataframe tbody tr th {\n",
       "        vertical-align: top;\n",
       "    }\n",
       "\n",
       "    .dataframe thead th {\n",
       "        text-align: right;\n",
       "    }\n",
       "</style>\n",
       "<table border=\"1\" class=\"dataframe\">\n",
       "  <thead>\n",
       "    <tr style=\"text-align: right;\">\n",
       "      <th></th>\n",
       "      <th>City</th>\n",
       "      <th>Lat</th>\n",
       "      <th>Lng</th>\n",
       "      <th>Max_Temp</th>\n",
       "      <th>Humidity</th>\n",
       "      <th>Cloudiness</th>\n",
       "      <th>Wind_Speed</th>\n",
       "      <th>Country</th>\n",
       "      <th>Date</th>\n",
       "      <th>Ave DNI Jan</th>\n",
       "      <th>Ave GHI Jan</th>\n",
       "      <th>Ave Lat Tilt Jan</th>\n",
       "      <th>Ave DNI Aug</th>\n",
       "      <th>Ave GHI Aug</th>\n",
       "      <th>Ave Lat Tilt Aug</th>\n",
       "    </tr>\n",
       "  </thead>\n",
       "  <tbody>\n",
       "    <tr>\n",
       "      <th>0</th>\n",
       "      <td>Puerto Peñasco</td>\n",
       "      <td>31.32</td>\n",
       "      <td>-113.53</td>\n",
       "      <td>31.11</td>\n",
       "      <td>78.0</td>\n",
       "      <td>27.0</td>\n",
       "      <td>7.15</td>\n",
       "      <td>MX</td>\n",
       "      <td>1.596307e+09</td>\n",
       "      <td>NaN</td>\n",
       "      <td>NaN</td>\n",
       "      <td>NaN</td>\n",
       "      <td>NaN</td>\n",
       "      <td>NaN</td>\n",
       "      <td>NaN</td>\n",
       "    </tr>\n",
       "    <tr>\n",
       "      <th>1</th>\n",
       "      <td>Cockburn Town</td>\n",
       "      <td>21.46</td>\n",
       "      <td>-71.14</td>\n",
       "      <td>29.00</td>\n",
       "      <td>74.0</td>\n",
       "      <td>75.0</td>\n",
       "      <td>8.70</td>\n",
       "      <td>TC</td>\n",
       "      <td>1.596307e+09</td>\n",
       "      <td>NaN</td>\n",
       "      <td>NaN</td>\n",
       "      <td>NaN</td>\n",
       "      <td>NaN</td>\n",
       "      <td>NaN</td>\n",
       "      <td>NaN</td>\n",
       "    </tr>\n",
       "    <tr>\n",
       "      <th>2</th>\n",
       "      <td>San Felipe</td>\n",
       "      <td>10.34</td>\n",
       "      <td>-68.74</td>\n",
       "      <td>31.10</td>\n",
       "      <td>52.0</td>\n",
       "      <td>70.0</td>\n",
       "      <td>4.54</td>\n",
       "      <td>VE</td>\n",
       "      <td>1.596307e+09</td>\n",
       "      <td>NaN</td>\n",
       "      <td>NaN</td>\n",
       "      <td>NaN</td>\n",
       "      <td>NaN</td>\n",
       "      <td>NaN</td>\n",
       "      <td>NaN</td>\n",
       "    </tr>\n",
       "    <tr>\n",
       "      <th>3</th>\n",
       "      <td>Princeton</td>\n",
       "      <td>25.54</td>\n",
       "      <td>-80.41</td>\n",
       "      <td>32.00</td>\n",
       "      <td>66.0</td>\n",
       "      <td>20.0</td>\n",
       "      <td>10.80</td>\n",
       "      <td>US</td>\n",
       "      <td>1.596307e+09</td>\n",
       "      <td>5.18</td>\n",
       "      <td>3.81</td>\n",
       "      <td>5.22</td>\n",
       "      <td>4.26</td>\n",
       "      <td>5.51</td>\n",
       "      <td>5.4</td>\n",
       "    </tr>\n",
       "    <tr>\n",
       "      <th>4</th>\n",
       "      <td>Deloraine</td>\n",
       "      <td>-41.53</td>\n",
       "      <td>146.67</td>\n",
       "      <td>10.00</td>\n",
       "      <td>100.0</td>\n",
       "      <td>40.0</td>\n",
       "      <td>4.60</td>\n",
       "      <td>AU</td>\n",
       "      <td>1.596307e+09</td>\n",
       "      <td>NaN</td>\n",
       "      <td>NaN</td>\n",
       "      <td>NaN</td>\n",
       "      <td>NaN</td>\n",
       "      <td>NaN</td>\n",
       "      <td>NaN</td>\n",
       "    </tr>\n",
       "  </tbody>\n",
       "</table>\n",
       "</div>"
      ],
      "text/plain": [
       "             City    Lat     Lng  Max_Temp  Humidity  Cloudiness  Wind_Speed  \\\n",
       "0  Puerto Peñasco  31.32 -113.53     31.11      78.0        27.0        7.15   \n",
       "1   Cockburn Town  21.46  -71.14     29.00      74.0        75.0        8.70   \n",
       "2      San Felipe  10.34  -68.74     31.10      52.0        70.0        4.54   \n",
       "3       Princeton  25.54  -80.41     32.00      66.0        20.0       10.80   \n",
       "4       Deloraine -41.53  146.67     10.00     100.0        40.0        4.60   \n",
       "\n",
       "  Country          Date  Ave DNI Jan  Ave GHI Jan  Ave Lat Tilt Jan  \\\n",
       "0      MX  1.596307e+09          NaN          NaN               NaN   \n",
       "1      TC  1.596307e+09          NaN          NaN               NaN   \n",
       "2      VE  1.596307e+09          NaN          NaN               NaN   \n",
       "3      US  1.596307e+09         5.18         3.81              5.22   \n",
       "4      AU  1.596307e+09          NaN          NaN               NaN   \n",
       "\n",
       "   Ave DNI Aug  Ave GHI Aug  Ave Lat Tilt Aug  \n",
       "0          NaN          NaN               NaN  \n",
       "1          NaN          NaN               NaN  \n",
       "2          NaN          NaN               NaN  \n",
       "3         4.26         5.51               5.4  \n",
       "4          NaN          NaN               NaN  "
      ]
     },
     "execution_count": 52,
     "metadata": {},
     "output_type": "execute_result"
    }
   ],
   "source": [
    "# Loading csv file from Curtis\n",
    "cities_df = pd.read_csv(\"Exported_combined_data_monthly.csv\",index_col=0)\n",
    "cities_df.head()"
   ]
  },
  {
   "cell_type": "code",
   "execution_count": 53,
   "metadata": {
    "scrolled": true
   },
   "outputs": [
    {
     "data": {
      "text/plain": [
       "City                719\n",
       "Lat                 719\n",
       "Lng                 719\n",
       "Max_Temp            719\n",
       "Humidity            719\n",
       "Cloudiness          719\n",
       "Wind_Speed          719\n",
       "Country             719\n",
       "Date                719\n",
       "Ave DNI Jan         719\n",
       "Ave GHI Jan         719\n",
       "Ave Lat Tilt Jan    719\n",
       "Ave DNI Aug         719\n",
       "Ave GHI Aug         719\n",
       "Ave Lat Tilt Aug    719\n",
       "dtype: int64"
      ]
     },
     "execution_count": 53,
     "metadata": {},
     "output_type": "execute_result"
    }
   ],
   "source": [
    "# Configuring gmaps for heatmap creation\n",
    "gmaps.configure(api_key=g_key)\n",
    "cities_df=cities_df.dropna()\n",
    "cities_df.count()"
   ]
  },
  {
   "cell_type": "code",
   "execution_count": 71,
   "metadata": {},
   "outputs": [],
   "source": [
    "# Setting locations by lat/long and intensity by solar data\n",
    "locations = cities_df[['Lat','Lng']].astype(float)\n",
    "dni1 = cities_df['Ave DNI Jan'].astype(float)\n",
    "dni2 = cities_df['Ave DNI Aug'].astype(float)\n",
    "\n",
    "locations = cities_df[['Lat','Lng']].astype(float)\n",
    "ghi1 = cities_df['Ave GHI Jan'].astype(float)\n",
    "ghi2 = cities_df['Ave GHI Aug'].astype(float)\n",
    "\n",
    "# # locations = cities_df[['Lat','Lng']].astype(float)\n",
    "# # ghi1 = cities_df['Ave Lat Tilt Jan'].astype(float)\n",
    "# # ghi2 = cities_df['Ave  Lat Tilt Aug'].astype(float)"
   ]
  },
  {
   "cell_type": "code",
   "execution_count": 75,
   "metadata": {},
   "outputs": [
    {
     "data": {
      "application/vnd.jupyter.widget-view+json": {
       "model_id": "efdef8d8cc74439e81767a2fba3db019",
       "version_major": 2,
       "version_minor": 0
      },
      "text/plain": [
       "Figure(layout=FigureLayout(height='420px'))"
      ]
     },
     "metadata": {},
     "output_type": "display_data"
    }
   ],
   "source": [
    "# Creating heat map of Avg DNI for Jan\n",
    "fig = gmaps.figure()\n",
    "\n",
    "heat_layer1 = gmaps.heatmap_layer(locations, weights=dni1, \n",
    "                                 dissipating=False, max_intensity=100,\n",
    "                                 point_radius = 3)\n",
    "\n",
    "fig.add_layer(heat_layer1)\n",
    "fig"
   ]
  },
  {
   "cell_type": "code",
   "execution_count": 76,
   "metadata": {},
   "outputs": [
    {
     "data": {
      "application/vnd.jupyter.widget-view+json": {
       "model_id": "41c2b4353ff044029dd5aa54051464ed",
       "version_major": 2,
       "version_minor": 0
      },
      "text/plain": [
       "Figure(layout=FigureLayout(height='420px'))"
      ]
     },
     "metadata": {},
     "output_type": "display_data"
    }
   ],
   "source": [
    "# Creating heat map of Avg DNI for Aug\n",
    "fig = gmaps.figure()\n",
    "\n",
    "heat_layer2 = gmaps.heatmap_layer(locations, weights=dni2, \n",
    "                                 dissipating=False, max_intensity=100,\n",
    "                                 point_radius = 3)\n",
    "\n",
    "fig.add_layer(heat_layer2)\n",
    "fig"
   ]
  },
  {
   "cell_type": "code",
   "execution_count": 77,
   "metadata": {},
   "outputs": [
    {
     "data": {
      "application/vnd.jupyter.widget-view+json": {
       "model_id": "75ef43e54cd4473797208edf8f71581f",
       "version_major": 2,
       "version_minor": 0
      },
      "text/plain": [
       "Figure(layout=FigureLayout(height='420px'))"
      ]
     },
     "metadata": {},
     "output_type": "display_data"
    }
   ],
   "source": [
    "# Creating heat map of Avg DNI overlapping\n",
    "fig = gmaps.figure()\n",
    "fig.add_layer(heat_layer1)\n",
    "fig.add_layer(heat_layer2)\n",
    "fig"
   ]
  },
  {
   "cell_type": "code",
   "execution_count": 83,
   "metadata": {},
   "outputs": [
    {
     "data": {
      "application/vnd.jupyter.widget-view+json": {
       "model_id": "deefb0a3d33a4a2390d9608ec4d35581",
       "version_major": 2,
       "version_minor": 0
      },
      "text/plain": [
       "Figure(layout=FigureLayout(height='420px'))"
      ]
     },
     "metadata": {},
     "output_type": "display_data"
    }
   ],
   "source": [
    "# Creating heat map of Avg GHI for Jan\n",
    "fig = gmaps.figure()\n",
    "\n",
    "heat_layer3 = gmaps.heatmap_layer(locations, weights=ghi1, \n",
    "                                 dissipating=False, max_intensity=100,\n",
    "                                 point_radius = 3)\n",
    "fig.add_layer(heat_layer3)\n",
    "fig"
   ]
  },
  {
   "cell_type": "code",
   "execution_count": 84,
   "metadata": {},
   "outputs": [
    {
     "data": {
      "application/vnd.jupyter.widget-view+json": {
       "model_id": "cce1925b490a484eb480baa4f706892a",
       "version_major": 2,
       "version_minor": 0
      },
      "text/plain": [
       "Figure(layout=FigureLayout(height='420px'))"
      ]
     },
     "metadata": {},
     "output_type": "display_data"
    }
   ],
   "source": [
    "# Creating heat map of Avg GHI for Aug\n",
    "fig = gmaps.figure()\n",
    "\n",
    "heat_layer4 = gmaps.heatmap_layer(locations, weights=ghi2, \n",
    "                                 dissipating=False, max_intensity=100,\n",
    "                                 point_radius = 3)\n",
    "fig.add_layer(heat_layer4)\n",
    "fig"
   ]
  },
  {
   "cell_type": "code",
   "execution_count": 85,
   "metadata": {},
   "outputs": [
    {
     "data": {
      "application/vnd.jupyter.widget-view+json": {
       "model_id": "c3d3f083e76642ea8ac5863e3ec2b136",
       "version_major": 2,
       "version_minor": 0
      },
      "text/plain": [
       "Figure(layout=FigureLayout(height='420px'))"
      ]
     },
     "metadata": {},
     "output_type": "display_data"
    }
   ],
   "source": [
    "# Creating heat map of Avg DNI overlapping\n",
    "fig = gmaps.figure()\n",
    "fig.add_layer(heat_layer3)\n",
    "fig.add_layer(heat_layer4)\n",
    "fig"
   ]
  },
  {
   "cell_type": "code",
   "execution_count": null,
   "metadata": {},
   "outputs": [],
   "source": []
  }
 ],
 "metadata": {
  "kernelspec": {
   "display_name": "Python 3",
   "language": "python",
   "name": "python3"
  },
  "language_info": {
   "codemirror_mode": {
    "name": "ipython",
    "version": 3
   },
   "file_extension": ".py",
   "mimetype": "text/x-python",
   "name": "python",
   "nbconvert_exporter": "python",
   "pygments_lexer": "ipython3",
   "version": "3.7.6"
  }
 },
 "nbformat": 4,
 "nbformat_minor": 4
}
