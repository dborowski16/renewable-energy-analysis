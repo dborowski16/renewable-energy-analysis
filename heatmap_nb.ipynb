{
 "cells": [
  {
   "cell_type": "code",
   "execution_count": 3,
   "metadata": {},
   "outputs": [],
   "source": [
    "# Dependencies and Setup\n",
    "import matplotlib.pyplot as plt\n",
    "import pandas as pd\n",
    "import numpy as np\n",
    "import requests\n",
    "import gmaps\n",
    "import os\n",
    "from pprint import pprint\n",
    "\n",
    "# Import API key\n",
    "from dave_api import g_key"
   ]
  },
  {
   "cell_type": "code",
   "execution_count": 4,
   "metadata": {},
   "outputs": [
    {
     "data": {
      "text/html": [
       "<div>\n",
       "<style scoped>\n",
       "    .dataframe tbody tr th:only-of-type {\n",
       "        vertical-align: middle;\n",
       "    }\n",
       "\n",
       "    .dataframe tbody tr th {\n",
       "        vertical-align: top;\n",
       "    }\n",
       "\n",
       "    .dataframe thead th {\n",
       "        text-align: right;\n",
       "    }\n",
       "</style>\n",
       "<table border=\"1\" class=\"dataframe\">\n",
       "  <thead>\n",
       "    <tr style=\"text-align: right;\">\n",
       "      <th></th>\n",
       "      <th>City</th>\n",
       "      <th>Lat</th>\n",
       "      <th>Lng</th>\n",
       "      <th>Max_Temp</th>\n",
       "      <th>Humidity</th>\n",
       "      <th>Cloudiness</th>\n",
       "      <th>Wind_Speed</th>\n",
       "      <th>Country</th>\n",
       "      <th>Date</th>\n",
       "      <th>Ave DNI</th>\n",
       "      <th>Ave GHI</th>\n",
       "      <th>Ave Lat Tilt</th>\n",
       "    </tr>\n",
       "  </thead>\n",
       "  <tbody>\n",
       "    <tr>\n",
       "      <th>0</th>\n",
       "      <td>Fortuna</td>\n",
       "      <td>40.60</td>\n",
       "      <td>-124.16</td>\n",
       "      <td>21.11</td>\n",
       "      <td>69.0</td>\n",
       "      <td>12.0</td>\n",
       "      <td>1.34</td>\n",
       "      <td>US</td>\n",
       "      <td>1.596240e+09</td>\n",
       "      <td>4.16</td>\n",
       "      <td>4.10</td>\n",
       "      <td>4.75</td>\n",
       "    </tr>\n",
       "    <tr>\n",
       "      <th>1</th>\n",
       "      <td>Elizabeth City</td>\n",
       "      <td>36.29</td>\n",
       "      <td>-76.25</td>\n",
       "      <td>32.00</td>\n",
       "      <td>70.0</td>\n",
       "      <td>40.0</td>\n",
       "      <td>3.10</td>\n",
       "      <td>US</td>\n",
       "      <td>1.596240e+09</td>\n",
       "      <td>4.91</td>\n",
       "      <td>4.46</td>\n",
       "      <td>5.18</td>\n",
       "    </tr>\n",
       "    <tr>\n",
       "      <th>2</th>\n",
       "      <td>Guerrero Negro</td>\n",
       "      <td>27.98</td>\n",
       "      <td>-114.06</td>\n",
       "      <td>29.38</td>\n",
       "      <td>47.0</td>\n",
       "      <td>0.0</td>\n",
       "      <td>6.03</td>\n",
       "      <td>MX</td>\n",
       "      <td>1.596240e+09</td>\n",
       "      <td>NaN</td>\n",
       "      <td>NaN</td>\n",
       "      <td>NaN</td>\n",
       "    </tr>\n",
       "    <tr>\n",
       "      <th>3</th>\n",
       "      <td>Sault Ste. Marie</td>\n",
       "      <td>46.52</td>\n",
       "      <td>-84.33</td>\n",
       "      <td>25.00</td>\n",
       "      <td>53.0</td>\n",
       "      <td>1.0</td>\n",
       "      <td>3.10</td>\n",
       "      <td>CA</td>\n",
       "      <td>1.596240e+09</td>\n",
       "      <td>3.72</td>\n",
       "      <td>3.58</td>\n",
       "      <td>4.10</td>\n",
       "    </tr>\n",
       "    <tr>\n",
       "      <th>4</th>\n",
       "      <td>Grand Forks</td>\n",
       "      <td>47.93</td>\n",
       "      <td>-97.03</td>\n",
       "      <td>27.00</td>\n",
       "      <td>54.0</td>\n",
       "      <td>75.0</td>\n",
       "      <td>4.10</td>\n",
       "      <td>US</td>\n",
       "      <td>1.596240e+09</td>\n",
       "      <td>3.98</td>\n",
       "      <td>3.60</td>\n",
       "      <td>4.29</td>\n",
       "    </tr>\n",
       "  </tbody>\n",
       "</table>\n",
       "</div>"
      ],
      "text/plain": [
       "               City    Lat     Lng  Max_Temp  Humidity  Cloudiness  \\\n",
       "0           Fortuna  40.60 -124.16     21.11      69.0        12.0   \n",
       "1    Elizabeth City  36.29  -76.25     32.00      70.0        40.0   \n",
       "2    Guerrero Negro  27.98 -114.06     29.38      47.0         0.0   \n",
       "3  Sault Ste. Marie  46.52  -84.33     25.00      53.0         1.0   \n",
       "4       Grand Forks  47.93  -97.03     27.00      54.0        75.0   \n",
       "\n",
       "   Wind_Speed Country          Date  Ave DNI  Ave GHI  Ave Lat Tilt  \n",
       "0        1.34      US  1.596240e+09     4.16     4.10          4.75  \n",
       "1        3.10      US  1.596240e+09     4.91     4.46          5.18  \n",
       "2        6.03      MX  1.596240e+09      NaN      NaN           NaN  \n",
       "3        3.10      CA  1.596240e+09     3.72     3.58          4.10  \n",
       "4        4.10      US  1.596240e+09     3.98     3.60          4.29  "
      ]
     },
     "execution_count": 4,
     "metadata": {},
     "output_type": "execute_result"
    }
   ],
   "source": [
    "# Loading csv file from Curtis\n",
    "cities_df = pd.read_csv(\"Exported_combined_data2.txt\",index_col=0)\n",
    "cities_df.head()"
   ]
  },
  {
   "cell_type": "code",
   "execution_count": 12,
   "metadata": {},
   "outputs": [
    {
     "data": {
      "text/plain": [
       "City            725\n",
       "Lat             725\n",
       "Lng             725\n",
       "Max_Temp        725\n",
       "Humidity        725\n",
       "Cloudiness      725\n",
       "Wind_Speed      725\n",
       "Country         725\n",
       "Date            725\n",
       "Ave DNI         725\n",
       "Ave GHI         725\n",
       "Ave Lat Tilt    725\n",
       "dtype: int64"
      ]
     },
     "execution_count": 12,
     "metadata": {},
     "output_type": "execute_result"
    }
   ],
   "source": [
    "# Configuring gmaps for heatmap creation\n",
    "gmaps.configure(api_key=g_key)\n",
    "cities_df=cities_df.dropna()\n",
    "cities_df.count()"
   ]
  },
  {
   "cell_type": "code",
   "execution_count": 15,
   "metadata": {},
   "outputs": [],
   "source": [
    "# Setting locations by lat/long and intensity by solar data\n",
    "locations = cities_df[['Lat','Lng']].astype(float)\n",
    "dni = cities_df['Ave DNI'].astype(float)\n",
    "\n",
    "locations = cities_df[['Lat','Lng']].astype(float)\n",
    "ghi = cities_df['Ave GHI'].astype(float)\n",
    "\n",
    "locations = cities_df[['Lat','Lng']].astype(float)\n",
    "tilt = cities_df['Ave Lat Tilt'].astype(float)"
   ]
  },
  {
   "cell_type": "code",
   "execution_count": 16,
   "metadata": {},
   "outputs": [
    {
     "data": {
      "application/vnd.jupyter.widget-view+json": {
       "model_id": "d95df627881d48258a3a49496c906887",
       "version_major": 2,
       "version_minor": 0
      },
      "text/plain": [
       "Figure(layout=FigureLayout(height='420px'))"
      ]
     },
     "metadata": {},
     "output_type": "display_data"
    }
   ],
   "source": [
    "# Creating heat map of Avg DNI\n",
    "fig = gmaps.figure()\n",
    "\n",
    "heat_layer = gmaps.heatmap_layer(locations, weights=dni, \n",
    "                                 dissipating=False, max_intensity=100,\n",
    "                                 point_radius = 3)\n",
    "\n",
    "fig.add_layer(heat_layer)\n",
    "fig"
   ]
  },
  {
   "cell_type": "code",
   "execution_count": 17,
   "metadata": {},
   "outputs": [
    {
     "data": {
      "application/vnd.jupyter.widget-view+json": {
       "model_id": "04f6594320c241bc86aead538363157d",
       "version_major": 2,
       "version_minor": 0
      },
      "text/plain": [
       "Figure(layout=FigureLayout(height='420px'))"
      ]
     },
     "metadata": {},
     "output_type": "display_data"
    }
   ],
   "source": [
    "# Creating heat map of Avg GHI\n",
    "fig = gmaps.figure()\n",
    "\n",
    "heat_layer = gmaps.heatmap_layer(locations, weights=ghi, \n",
    "                                 dissipating=False, max_intensity=100,\n",
    "                                 point_radius = 3)\n",
    "\n",
    "fig.add_layer(heat_layer)\n",
    "fig"
   ]
  },
  {
   "cell_type": "code",
   "execution_count": 18,
   "metadata": {},
   "outputs": [
    {
     "data": {
      "application/vnd.jupyter.widget-view+json": {
       "model_id": "7025fcc28b8b4ceb87ebd0ed8e60b0bf",
       "version_major": 2,
       "version_minor": 0
      },
      "text/plain": [
       "Figure(layout=FigureLayout(height='420px'))"
      ]
     },
     "metadata": {},
     "output_type": "display_data"
    }
   ],
   "source": [
    "# Creating heat map of Avg lat tilt\n",
    "fig = gmaps.figure()\n",
    "\n",
    "heat_layer = gmaps.heatmap_layer(locations, weights=tilt, \n",
    "                                 dissipating=False, max_intensity=100,\n",
    "                                 point_radius = 3)\n",
    "\n",
    "fig.add_layer(heat_layer)\n",
    "fig"
   ]
  },
  {
   "cell_type": "code",
   "execution_count": null,
   "metadata": {},
   "outputs": [],
   "source": []
  }
 ],
 "metadata": {
  "kernelspec": {
   "display_name": "Python 3",
   "language": "python",
   "name": "python3"
  },
  "language_info": {
   "codemirror_mode": {
    "name": "ipython",
    "version": 3
   },
   "file_extension": ".py",
   "mimetype": "text/x-python",
   "name": "python",
   "nbconvert_exporter": "python",
   "pygments_lexer": "ipython3",
   "version": "3.7.6"
  }
 },
 "nbformat": 4,
 "nbformat_minor": 4
}
